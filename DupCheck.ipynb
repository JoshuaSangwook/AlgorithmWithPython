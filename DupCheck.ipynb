{
 "cells": [
  {
   "cell_type": "markdown",
   "metadata": {},
   "source": [
    "# Duplication Check"
   ]
  },
  {
   "cell_type": "code",
   "execution_count": 4,
   "metadata": {
    "collapsed": false
   },
   "outputs": [
    {
     "data": {
      "text/plain": [
       "102"
      ]
     },
     "execution_count": 4,
     "metadata": {},
     "output_type": "execute_result"
    }
   ],
   "source": [
    "hash = [False] * 256\n",
    "ord('f')"
   ]
  },
  {
   "cell_type": "code",
   "execution_count": 5,
   "metadata": {
    "collapsed": false
   },
   "outputs": [
    {
     "name": "stdout",
     "output_type": "stream",
     "text": [
      "s\n",
      "f\n",
      "a\n",
      "s\n",
      "dup\n",
      "a\n",
      "dup\n",
      "d\n"
     ]
    }
   ],
   "source": [
    "for ch in \"sfasad\":\n",
    "    print (ch)\n",
    "    if hash[ord(ch)] is True:\n",
    "        print(\"dup\")\n",
    "    else:\n",
    "        hash[ord(ch)] = True \n"
   ]
  },
  {
   "cell_type": "code",
   "execution_count": 100,
   "metadata": {
    "collapsed": false
   },
   "outputs": [],
   "source": [
    "def UniqueCheck(str):\n",
    "    if len(str)> 256:  #All ASCII characters 256 \n",
    "        print(\"dup\")\n",
    "    hash = [False]*256        \n",
    "    \n",
    "    for ch in str:\n",
    "        if hash[ord(ch)] is True:\n",
    "            print(\"dup\")\n",
    "        else :\n",
    "            hash[ord(ch)] = True\n",
    "    return hash            "
   ]
  },
  {
   "cell_type": "code",
   "execution_count": 110,
   "metadata": {
    "collapsed": false
   },
   "outputs": [
    {
     "name": "stdout",
     "output_type": "stream",
     "text": [
      "dup\n"
     ]
    }
   ],
   "source": [
    "result = UniqueCheck(\"ccf\")"
   ]
  },
  {
   "cell_type": "code",
   "execution_count": 122,
   "metadata": {
    "collapsed": false
   },
   "outputs": [
    {
     "name": "stdout",
     "output_type": "stream",
     "text": [
      "['f']\n",
      "['c', 'c']\n"
     ]
    }
   ],
   "source": [
    "l = \"ccf\"\n",
    "print([x for x in l if l.count(x) == 1])\n",
    "print([x for x in l if l.count(x) > 1])"
   ]
  },
  {
   "cell_type": "code",
   "execution_count": 111,
   "metadata": {
    "collapsed": false
   },
   "outputs": [
    {
     "data": {
      "text/plain": [
       "[1]"
      ]
     },
     "execution_count": 111,
     "metadata": {},
     "output_type": "execute_result"
    }
   ],
   "source": [
    "[i for i, j in enumerate(['foo', 'bar', 'baz']) if j == 'bar']"
   ]
  },
  {
   "cell_type": "code",
   "execution_count": 112,
   "metadata": {
    "collapsed": false
   },
   "outputs": [
    {
     "name": "stdout",
     "output_type": "stream",
     "text": [
      "[99, 102]\n",
      "c\n",
      "f\n"
     ]
    }
   ],
   "source": [
    "asc = [i for i, j in enumerate(result) if j == True]\n",
    "print(asc)\n",
    "for a in asc:\n",
    "    print(chr(a))"
   ]
  },
  {
   "cell_type": "code",
   "execution_count": 116,
   "metadata": {
    "collapsed": false
   },
   "outputs": [
    {
     "name": "stdout",
     "output_type": "stream",
     "text": [
      "hello, world"
     ]
    },
    {
     "data": {
      "text/plain": [
       "'hello, world'"
      ]
     },
     "execution_count": 116,
     "metadata": {},
     "output_type": "execute_result"
    }
   ],
   "source": [
    "L = [104, 101, 108, 108, 111, 44, 32, 119, 111, 114, 108, 100]\n",
    "for i in L:\n",
    "    print(chr(i),end =\"\")\n",
    "''.join(map(chr,L))    "
   ]
  },
  {
   "cell_type": "code",
   "execution_count": 54,
   "metadata": {
    "collapsed": false
   },
   "outputs": [],
   "source": [
    "\"\"\"\n",
    "return true if the string doesn't have duplicate characters\n",
    "return false if the string has duplicate character by myself. \n",
    "\"\"\"\n",
    "import unittest\n",
    "\n",
    "def isUniqChars(str):\n",
    "    # assume characters are ASCII, total 256 characters\n",
    "    # if the string is greater than 256, there is duplicate\n",
    "    if len(str) > 256:\n",
    "        return False\n",
    "    # initialize boolean array\n",
    "    hash = [False] * 256\n",
    "\n",
    "    for ch in str:\n",
    "        # if boolean array is true, then there is duplicate\n",
    "        if hash[ord(ch)] is True:\n",
    "            return False\n",
    "        # if the value in hash is False, the value is not duplicate yet\n",
    "        else:\n",
    "            hash[ord(ch)] = True\n",
    "    return True\n",
    "\n",
    "\n",
    "class isUniqCharsTest(unittest.TestCase):\n",
    "    def test(self):\n",
    "        input_unique = \"abcde\"\n",
    "        input_not_unique = \"abcdea\"\n",
    "        self.assertTrue(isUniqChars(input_unique))\n",
    "        self.assertFalse(isUniqChars(input_not_unique))"
   ]
  },
  {
   "cell_type": "code",
   "execution_count": 123,
   "metadata": {
    "collapsed": true
   },
   "outputs": [],
   "source": [
    "def search_redundant(str_data):\n",
    "    str_data = list(str_data)\n",
    "\n",
    "    if len(list(set(str_data))) is len(str_data):\n",
    "        print(\"no duplicate\")\n",
    "    else:\n",
    "        print(\"duplicate\")"
   ]
  },
  {
   "cell_type": "code",
   "execution_count": 125,
   "metadata": {
    "collapsed": false
   },
   "outputs": [
    {
     "name": "stdout",
     "output_type": "stream",
     "text": [
      "no duplicate\n"
     ]
    }
   ],
   "source": [
    "search_redundant(\"ab\")"
   ]
  },
  {
   "cell_type": "code",
   "execution_count": 127,
   "metadata": {
    "collapsed": false
   },
   "outputs": [
    {
     "data": {
      "text/plain": [
       "{'a', 'b'}"
      ]
     },
     "execution_count": 127,
     "metadata": {},
     "output_type": "execute_result"
    }
   ],
   "source": [
    "set(list(\"baa\"))"
   ]
  },
  {
   "cell_type": "code",
   "execution_count": 135,
   "metadata": {
    "collapsed": false
   },
   "outputs": [],
   "source": [
    "ascii = [0]*256\n",
    "#ord(\"a\")\n",
    "for a in \"ab\":\n",
    "    if ascii[ord(a)]==1:\n",
    "        print(\"dup\")\n",
    "    else :\n",
    "        ascii[ord(a)] = 1"
   ]
  },
  {
   "cell_type": "code",
   "execution_count": null,
   "metadata": {
    "collapsed": true
   },
   "outputs": [],
   "source": []
  }
 ],
 "metadata": {
  "kernelspec": {
   "display_name": "Python [conda env:deeplearning]",
   "language": "python",
   "name": "conda-env-deeplearning-py"
  },
  "language_info": {
   "codemirror_mode": {
    "name": "ipython",
    "version": 3
   },
   "file_extension": ".py",
   "mimetype": "text/x-python",
   "name": "python",
   "nbconvert_exporter": "python",
   "pygments_lexer": "ipython3",
   "version": "3.5.3"
  }
 },
 "nbformat": 4,
 "nbformat_minor": 2
}
